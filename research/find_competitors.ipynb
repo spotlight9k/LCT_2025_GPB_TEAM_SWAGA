{
 "cells": [
  {
   "cell_type": "code",
   "execution_count": 2,
   "id": "0c2a7755",
   "metadata": {},
   "outputs": [
    {
     "name": "stdout",
     "output_type": "stream",
     "text": [
      "(50357, 13)\n"
     ]
    },
    {
     "data": {
      "text/html": [
       "<div>\n",
       "<style scoped>\n",
       "    .dataframe tbody tr th:only-of-type {\n",
       "        vertical-align: middle;\n",
       "    }\n",
       "\n",
       "    .dataframe tbody tr th {\n",
       "        vertical-align: top;\n",
       "    }\n",
       "\n",
       "    .dataframe thead th {\n",
       "        text-align: right;\n",
       "    }\n",
       "</style>\n",
       "<table border=\"1\" class=\"dataframe\">\n",
       "  <thead>\n",
       "    <tr style=\"text-align: right;\">\n",
       "      <th></th>\n",
       "      <th>index</th>\n",
       "      <th>id</th>\n",
       "      <th>title</th>\n",
       "      <th>text</th>\n",
       "      <th>dateCreate</th>\n",
       "      <th>product</th>\n",
       "      <th>sub_product</th>\n",
       "      <th>source</th>\n",
       "      <th>text_clean</th>\n",
       "      <th>review</th>\n",
       "      <th>predicted_classes_new</th>\n",
       "      <th>predicted_classes_refined</th>\n",
       "      <th>final_classes</th>\n",
       "    </tr>\n",
       "  </thead>\n",
       "  <tbody>\n",
       "    <tr>\n",
       "      <th>0</th>\n",
       "      <td>0</td>\n",
       "      <td>992651</td>\n",
       "      <td>не выполняют условия акции</td>\n",
       "      <td>в апреле 2025 года я рекомендовала дебетовую к...</td>\n",
       "      <td>2025-08-29T23:30:38.746003Z</td>\n",
       "      <td>debitCards</td>\n",
       "      <td>Умная карта (Премиум)</td>\n",
       "      <td>sravni</td>\n",
       "      <td>в апреле года я рекомендовала дебетовую карту ...</td>\n",
       "      <td>не выполняют условия акции  в апреле года я ре...</td>\n",
       "      <td>[1, 3, 14, 15]</td>\n",
       "      <td>[1, 3, 14, 15]</td>\n",
       "      <td>[debitCards, cashbackPromo, notifications, ref...</td>\n",
       "    </tr>\n",
       "    <tr>\n",
       "      <th>1</th>\n",
       "      <td>1</td>\n",
       "      <td>998360</td>\n",
       "      <td>жалоба на услугу газпром бонус премиум</td>\n",
       "      <td>купил услугу газпром бонус премиум за 2 цель б...</td>\n",
       "      <td>2025-09-15T09:38:13.34818Z</td>\n",
       "      <td>debitCards</td>\n",
       "      <td>Отсутствует</td>\n",
       "      <td>sravni</td>\n",
       "      <td>купил услугу газпром бонус премиум за цель был...</td>\n",
       "      <td>жалоба на услугу газпром бонус премиум  купил ...</td>\n",
       "      <td>[]</td>\n",
       "      <td>[]</td>\n",
       "      <td>[debitCards]</td>\n",
       "    </tr>\n",
       "  </tbody>\n",
       "</table>\n",
       "</div>"
      ],
      "text/plain": [
       "   index      id                                    title  \\\n",
       "0      0  992651              не выполняют условия акции    \n",
       "1      1  998360  жалоба на услугу газпром бонус премиум    \n",
       "\n",
       "                                                text  \\\n",
       "0  в апреле 2025 года я рекомендовала дебетовую к...   \n",
       "1  купил услугу газпром бонус премиум за 2 цель б...   \n",
       "\n",
       "                    dateCreate     product            sub_product  source  \\\n",
       "0  2025-08-29T23:30:38.746003Z  debitCards  Умная карта (Премиум)  sravni   \n",
       "1   2025-09-15T09:38:13.34818Z  debitCards            Отсутствует  sravni   \n",
       "\n",
       "                                          text_clean  \\\n",
       "0  в апреле года я рекомендовала дебетовую карту ...   \n",
       "1  купил услугу газпром бонус премиум за цель был...   \n",
       "\n",
       "                                              review predicted_classes_new  \\\n",
       "0  не выполняют условия акции  в апреле года я ре...        [1, 3, 14, 15]   \n",
       "1  жалоба на услугу газпром бонус премиум  купил ...                    []   \n",
       "\n",
       "  predicted_classes_refined                                      final_classes  \n",
       "0            [1, 3, 14, 15]  [debitCards, cashbackPromo, notifications, ref...  \n",
       "1                        []                                       [debitCards]  "
      ]
     },
     "execution_count": 2,
     "metadata": {},
     "output_type": "execute_result"
    }
   ],
   "source": [
    "import pandas as pd\n",
    "df = pd.read_pickle('../data/df_final_v2.pkl')\n",
    "print(df.shape)\n",
    "df.head(2)"
   ]
  },
  {
   "cell_type": "code",
   "execution_count": 7,
   "id": "867f04eb",
   "metadata": {},
   "outputs": [
    {
     "data": {
      "text/plain": [
       "'[сбер, сбербанк, sber, sberbank, сберегательный банк, сберик, сбербанк]'"
      ]
     },
     "execution_count": 7,
     "metadata": {},
     "output_type": "execute_result"
    }
   ],
   "source": [
    "'[сбер, сбербанк, sber, sberbank, сберегательный банк, сберик, сбербанк]'"
   ]
  },
  {
   "cell_type": "code",
   "execution_count": 55,
   "id": "92d653d1",
   "metadata": {},
   "outputs": [],
   "source": [
    "banks = [\n",
    "    ['газпромбанк', 'gazprombank', 'гпб'],\n",
    "    ['сбербанк', 'сбер', 'sber', 'sberbank', 'сберегательный банк', 'сберик'],\n",
    "    ['втб', 'vtb', 'втб банк', 'vtb bank'],\n",
    "    ['альфа', 'альфа банк', 'альфа-банк', 'alpha', 'alpha bank', 'alpha-bank', 'альфабанк'],\n",
    "    ['тинькофф', 'tinkoff', 'тинькофф банк', 'tinkoff bank', 'тиньк', 'тинька'],\n",
    "    ['райффайзен', 'райффайзенбанк', 'райфайзен', 'райфайзенбанк', 'raiffeisen', 'raiffeisenbank'],\n",
    "    ['совкомбанк', 'sovcombank'],\n",
    "    ['промсвязьбанк', 'псб', 'psb', 'promsvyazbank'],\n",
    "    ['россельхозбанк', 'рсхб', 'rshb', 'rosselkhozbank'],\n",
    "    ['ак барс', 'акбарс', 'ак барс банк', 'ak bars'],\n",
    "    ['ренессанс кредит', 'ренессанс', 'renaissance credit'],\n",
    "    ['совгазбанк', 'sovgazbank'],\n",
    "    ['абсолют', 'абсолют банк', 'absolut bank'],\n",
    "    ['мтс', 'мтс банк', 'mts bank'],\n",
    "    ['точка', 'банк точка', 'tochka', 'rocketbank'],\n",
    "    ['почта банк', 'почтабанк', 'pochta bank']\n",
    "]\n",
    "competitor_banks = [b for b in banks if b[0] != 'газпромбанк']"
   ]
  },
  {
   "cell_type": "code",
   "execution_count": 64,
   "id": "46ac4836",
   "metadata": {},
   "outputs": [],
   "source": [
    "from itertools import chain\n",
    "competitor_bank_tokens = [(t[0], set(t)) for t in competitor_banks]\n",
    "\n",
    "def get_competitor_banks(text: str):\n",
    "    tokens = set(text.split())\n",
    "    res = []\n",
    "    for bank, bank_tokens in competitor_bank_tokens:\n",
    "        if any(btoken in tokens for btoken in bank_tokens):\n",
    "            res.append(bank)\n",
    "    return ','.join(sorted(res))"
   ]
  },
  {
   "cell_type": "code",
   "execution_count": 65,
   "id": "05ed5017",
   "metadata": {},
   "outputs": [],
   "source": [
    "df['competitor_banks'] = df['text_clean'].apply(get_competitor_banks)\n",
    "df['has_competitor_banks'] = df['competitor_banks'].apply(lambda x: len(x) > 0)"
   ]
  },
  {
   "cell_type": "code",
   "execution_count": 66,
   "id": "ecbcde42",
   "metadata": {},
   "outputs": [
    {
     "data": {
      "text/html": [
       "<div>\n",
       "<style scoped>\n",
       "    .dataframe tbody tr th:only-of-type {\n",
       "        vertical-align: middle;\n",
       "    }\n",
       "\n",
       "    .dataframe tbody tr th {\n",
       "        vertical-align: top;\n",
       "    }\n",
       "\n",
       "    .dataframe thead th {\n",
       "        text-align: right;\n",
       "    }\n",
       "</style>\n",
       "<table border=\"1\" class=\"dataframe\">\n",
       "  <thead>\n",
       "    <tr style=\"text-align: right;\">\n",
       "      <th></th>\n",
       "      <th>index</th>\n",
       "    </tr>\n",
       "    <tr>\n",
       "      <th>has_competitor_banks</th>\n",
       "      <th></th>\n",
       "    </tr>\n",
       "  </thead>\n",
       "  <tbody>\n",
       "    <tr>\n",
       "      <th>False</th>\n",
       "      <td>47823</td>\n",
       "    </tr>\n",
       "    <tr>\n",
       "      <th>True</th>\n",
       "      <td>2534</td>\n",
       "    </tr>\n",
       "  </tbody>\n",
       "</table>\n",
       "</div>"
      ],
      "text/plain": [
       "                      index\n",
       "has_competitor_banks       \n",
       "False                 47823\n",
       "True                   2534"
      ]
     },
     "execution_count": 66,
     "metadata": {},
     "output_type": "execute_result"
    }
   ],
   "source": [
    "df.groupby('has_competitor_banks').agg({'index': 'count'})"
   ]
  },
  {
   "cell_type": "code",
   "execution_count": 68,
   "id": "ee15c86f",
   "metadata": {},
   "outputs": [
    {
     "data": {
      "text/plain": [
       "array([['мтс',\n",
       "        'решил стать клиентом газпромбанка в условиях быстро меняющихся ставок по вкладам удобно иметь широкий выбор условий от разных банков заказал на сайте оформление дебетовой карты через несколько дней приехал курьер оформил все документы и выдал карту далее необходимо установить мобильный банк после запуска приложение просит ввести номер телефона и код из смс вот только смс не приходят при курьере при оформлении все приходило по телефону горячей линии ожидание 30 мин зато на сайте есть форма обратной связи написал обращение при отправке просит ввести номер телефона и код из смс я уже думал тупик но код пришел через день служба поддержки ответила что нужно придти в офис и актуализировать какие то данные бред ну хорошо хоть не сказали что это у меня проблемы с приемом смс специально взял распечатку из мтс и никаких входящих смс от газпромбанка после визита курьера нет ну кроме одной когда обращение писал не вижу смысла идти к ним в офис тем более что в отзывах люди пишут что и это не помогает тут должна быть тирада на околоматерном про уровень специалистов и клиентоориентированность но ее не пропустят '],\n",
       "       ['альфа,втб,сбербанк,тинькофф',\n",
       "        '30 03 2024г стал клиентом банка оформив дебетовую и кредитную карту банка юнион пэй для поездки в китай решил перевести деньги на дебетовую карту через систему быстрых платежей сбп и все деньги перевелись не на целевой счёт дебетовая карта а на счёт кредитной карты позвонил в банк сказали что это техническая ошибка и можно с кредитки все что сверх кредитного лимита можно без процентов перевести на дебетовую но увы за перевод взимается плата написал в поддержку в онлайн банке в чате мне ответили что зарегистрировано обращение и срок рассмотрения 30 дней и что теперь делать ждать около 30 дней для решения проблемы мне в китай нужно как снимать деньги знакомство с банком прошло ужасно и не знаю как быть являюсь клиентом банков тинькофф сбербанк втб альфа банк и по начальному опыту газпромбанк это худший банк ']],\n",
       "      dtype=object)"
      ]
     },
     "execution_count": 68,
     "metadata": {},
     "output_type": "execute_result"
    }
   ],
   "source": [
    "df[df['has_competitor_banks'] == True].sample(2)[['competitor_banks', 'text']].values"
   ]
  },
  {
   "cell_type": "code",
   "execution_count": 67,
   "id": "ff84aeed",
   "metadata": {},
   "outputs": [],
   "source": [
    "df[['id', 'competitor_banks', 'has_competitor_banks']].to_csv('../data/competitors_data.csv', index=False)"
   ]
  },
  {
   "cell_type": "code",
   "execution_count": null,
   "id": "c9271704",
   "metadata": {},
   "outputs": [],
   "source": []
  },
  {
   "cell_type": "code",
   "execution_count": null,
   "id": "fb605508",
   "metadata": {},
   "outputs": [],
   "source": []
  },
  {
   "cell_type": "code",
   "execution_count": null,
   "id": "b3aa5afd",
   "metadata": {},
   "outputs": [],
   "source": []
  }
 ],
 "metadata": {
  "kernelspec": {
   "display_name": ".venv",
   "language": "python",
   "name": "python3"
  },
  "language_info": {
   "codemirror_mode": {
    "name": "ipython",
    "version": 3
   },
   "file_extension": ".py",
   "mimetype": "text/x-python",
   "name": "python",
   "nbconvert_exporter": "python",
   "pygments_lexer": "ipython3",
   "version": "3.12.3"
  }
 },
 "nbformat": 4,
 "nbformat_minor": 5
}
